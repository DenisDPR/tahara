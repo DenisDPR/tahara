{
 "cells": [
  {
   "cell_type": "code",
   "execution_count": 1,
   "metadata": {},
   "outputs": [],
   "source": [
    "from PIL import Image\n",
    "%matplotlib inline\n",
    "import numpy\n",
    "import numpy as np\n",
    "from scipy import misc\n",
    "import matplotlib.pyplot as plt\n",
    "\n",
    "from skimage import data"
   ]
  },
  {
   "cell_type": "code",
   "execution_count": 2,
   "metadata": {},
   "outputs": [
    {
     "name": "stderr",
     "output_type": "stream",
     "text": [
      "/Users/denisrubanga/anaconda/lib/python2.7/site-packages/ipykernel_launcher.py:1: DeprecationWarning: `imread` is deprecated!\n",
      "`imread` is deprecated in SciPy 1.0.0, and will be removed in 1.2.0.\n",
      "Use ``imageio.imread`` instead.\n",
      "  \"\"\"Entry point for launching an IPython kernel.\n",
      "/Users/denisrubanga/anaconda/lib/python2.7/site-packages/ipykernel_launcher.py:2: DeprecationWarning: `imread` is deprecated!\n",
      "`imread` is deprecated in SciPy 1.0.0, and will be removed in 1.2.0.\n",
      "Use ``imageio.imread`` instead.\n",
      "  \n"
     ]
    },
    {
     "data": {
      "text/plain": [
       "numpy.ndarray"
      ]
     },
     "execution_count": 2,
     "metadata": {},
     "output_type": "execute_result"
    }
   ],
   "source": [
    "photo_data = misc.imread('test_planet.tif')\n",
    "photo_data2 = misc.imread('20171011_013118_0c46/20171011_013118_0c46_3B_AnalyticMS_DN_udm.tif')\n",
    "#photo_data2 = misc.imread('20171011_013118_0c46/20171011_013118_0c46_3B_AnalyticMS.tif')\n",
    "\n",
    "type(photo_data2)"
   ]
  },
  {
   "cell_type": "code",
   "execution_count": 3,
   "metadata": {},
   "outputs": [
    {
     "data": {
      "text/plain": [
       "<matplotlib.image.AxesImage at 0x11d10c190>"
      ]
     },
     "execution_count": 3,
     "metadata": {},
     "output_type": "execute_result"
    },
    {
     "data": {
      "image/png": "[encoded data removed]",
      "text/plain": [
       "<matplotlib.figure.Figure at 0x11d10c890>"
      ]
     },
     "metadata": {},
     "output_type": "display_data"
    }
   ],
   "source": [
    "#plt.figure(figsize=(15,15))\n",
    "plt.imshow(photo_data2)"
   ]
  },
  {
   "cell_type": "code",
   "execution_count": 4,
   "metadata": {},
   "outputs": [
    {
     "data": {
      "text/plain": [
       "(5758, 5530)"
      ]
     },
     "execution_count": 4,
     "metadata": {},
     "output_type": "execute_result"
    }
   ],
   "source": [
    "photo_data2.shape"
   ]
  },
  {
   "cell_type": "code",
   "execution_count": 5,
   "metadata": {},
   "outputs": [
    {
     "data": {
      "text/plain": [
       "31841740"
      ]
     },
     "execution_count": 5,
     "metadata": {},
     "output_type": "execute_result"
    }
   ],
   "source": [
    "photo_data2.size"
   ]
  },
  {
   "cell_type": "code",
   "execution_count": 6,
   "metadata": {},
   "outputs": [
    {
     "data": {
      "text/plain": [
       "(0, 66)"
      ]
     },
     "execution_count": 6,
     "metadata": {},
     "output_type": "execute_result"
    }
   ],
   "source": [
    "photo_data2.min(), photo_data.max()"
   ]
  },
  {
   "cell_type": "code",
   "execution_count": 7,
   "metadata": {},
   "outputs": [
    {
     "data": {
      "text/plain": [
       "0.65913979575236781"
      ]
     },
     "execution_count": 7,
     "metadata": {},
     "output_type": "execute_result"
    }
   ],
   "source": [
    "photo_data2.mean()"
   ]
  },
  {
   "cell_type": "code",
   "execution_count": 8,
   "metadata": {},
   "outputs": [],
   "source": [
    "\n",
    "#imarray = numpy.array(im)"
   ]
  },
  {
   "cell_type": "code",
   "execution_count": 9,
   "metadata": {},
   "outputs": [],
   "source": [
    "#imarray.shape"
   ]
  },
  {
   "cell_type": "code",
   "execution_count": 10,
   "metadata": {},
   "outputs": [],
   "source": [
    "#im.size"
   ]
  },
  {
   "cell_type": "markdown",
   "metadata": {},
   "source": [
    "## TIFF Viewer\n"
   ]
  },
  {
   "cell_type": "code",
   "execution_count": 11,
   "metadata": {},
   "outputs": [],
   "source": [
    "from PIL import Image\n",
    "im = Image.open('20171011_013118_0c46/20171011_013118_0c46_3B_AnalyticMS_DN_udm.tif')\n",
    "im.show()"
   ]
  },
  {
   "cell_type": "markdown",
   "metadata": {},
   "source": [
    "# PLANETS NDVI"
   ]
  },
  {
   "cell_type": "markdown",
   "metadata": {},
   "source": [
    "## Step 1. Download a 4-Band image \n",
    "\n",
    "First, download a 4-band Planetscope image of agricultural land in Toledo, Spain (id: 20161218_101700_0e0d). You can do this using the Planet API, or with Planet Explorer, by filtering for '4 Band PlanetScope scene' (PSScene4Band) or 'Planetscope ortho tile' (PSOrthoTile), and downloading an 'analytic' asset.\n",
    "\n",
    "Using the Planet Data API client:"
   ]
  },
  {
   "cell_type": "markdown",
   "metadata": {},
   "source": [
    "## Step 2. Extract the Visible Red and NIR bands\n",
    "\n",
    "Reference https://www.planet.com/docs/guides/quickstart-ndvi/\n",
    "\n",
    "https://github.com/planetlabs/notebooks/blob/master/jupyter-notebooks/ndvi/ndvi_planetscope.ipynb"
   ]
  },
  {
   "cell_type": "code",
   "execution_count": 13,
   "metadata": {},
   "outputs": [],
   "source": [
    "import rasterio\n",
    "import numpy\n",
    "\n",
    "image_file = \"20171011_013121_0c46/20171011_013121_0c46_3B_AnalyticMS.tif\"\n",
    "\n",
    "# Load red and NIR bands - note all PlanetScope 4-band images have band order BGRN\n",
    "with rasterio.open(image_file) as src:\n",
    "    band_red = src.read(3)\n",
    "\n",
    "with rasterio.open(image_file) as src:\n",
    "    band_nir = src.read(4)"
   ]
  },
  {
   "cell_type": "markdown",
   "metadata": {},
   "source": [
    "## Step 3. Normalize to Top of Atmosphere Reflectance\n",
    "\n",
    "### Converting the pixel values to TOA Reflectance makes the analysis more accurate, and comparable with other scenes. Load the TOA Reflectance coefficients from the metadata XML asset."
   ]
  },
  {
   "cell_type": "code",
   "execution_count": 14,
   "metadata": {},
   "outputs": [],
   "source": [
    "from xml.dom import minidom\n",
    "\n",
    "xmldoc = minidom.parse(\"20171011_013121_0c46/20171011_013121_0c46_3B_AnalyticMS_metadata.xml\")\n",
    "nodes = xmldoc.getElementsByTagName(\"ps:bandSpecificMetadata\")\n",
    "\n",
    "# XML parser refers to bands by numbers 1-4\n",
    "coeffs = {}\n",
    "for node in nodes:\n",
    "    bn = node.getElementsByTagName(\"ps:bandNumber\")[0].firstChild.data\n",
    "    if bn in ['1', '2', '3', '4']:\n",
    "        i = int(bn)\n",
    "        value = node.getElementsByTagName(\"ps:reflectanceCoefficient\")[0].firstChild.data\n",
    "        coeffs[i] = float(value)\n"
   ]
  },
  {
   "cell_type": "markdown",
   "metadata": {},
   "source": [
    "#### Multiply the band values by the TOA Reflectance coefficients."
   ]
  },
  {
   "cell_type": "code",
   "execution_count": 15,
   "metadata": {},
   "outputs": [],
   "source": [
    "# Multiply by corresponding coefficients\n",
    "band_red = band_red * coeffs[3]\n",
    "band_nir = band_nir * coeffs[4]\n"
   ]
  },
  {
   "cell_type": "markdown",
   "metadata": {},
   "source": [
    "## Step 4. Perform the NDVI calculation \n",
    "\n",
    "Next we perform the NDVI calculation through subtraction and division of the pixel values."
   ]
  },
  {
   "cell_type": "code",
   "execution_count": 16,
   "metadata": {},
   "outputs": [],
   "source": [
    "# Allow division by zero\n",
    "numpy.seterr(divide='ignore', invalid='ignore')\n",
    "\n",
    "# Calculate NDVI\n",
    "ndvi = (band_nir.astype(float) - band_red.astype(float)) / (band_nir + band_red)"
   ]
  },
  {
   "cell_type": "markdown",
   "metadata": {},
   "source": [
    "## Step 5. Save the NDVI image\n",
    "\n",
    "Finally we output these new pixel values to a new image file, making sure we mirror the GeoTIFF spatial metadata:\n"
   ]
  },
  {
   "cell_type": "code",
   "execution_count": null,
   "metadata": {},
   "outputs": [
    {
     "name": "stderr",
     "output_type": "stream",
     "text": [
      "/Users/denisrubanga/anaconda/lib/python2.7/site-packages/rasterio/__init__.py:160: FutureWarning: GDAL-style transforms are deprecated and will not be supported in Rasterio 1.0.\n",
      "  transform = guard_transform(transform)\n"
     ]
    }
   ],
   "source": [
    "# Set spatial characteristics of the output object to mirror the input\n",
    "kwargs = src.meta\n",
    "kwargs.update(\n",
    "    dtype=rasterio.float32,\n",
    "    count = 1)\n",
    "\n",
    "# Create the file\n",
    "with rasterio.open('ndvi_21.tif', 'w', **kwargs) as dst:\n",
    "        dst.write_band(1, ndvi.astype(rasterio.float32))\n",
    "\n"
   ]
  },
  {
   "cell_type": "markdown",
   "metadata": {},
   "source": [
    "## Step 6. Apply a color map\n",
    "\n",
    "Applying a color map can help to visually distinguish vegetation. For more color map options check out the docs for matplotlib."
   ]
  },
  {
   "cell_type": "code",
   "execution_count": null,
   "metadata": {},
   "outputs": [],
   "source": [
    "import matplotlib.pyplot as plt\n",
    "plt.imsave(\"ndvi_cmap_21.png\", ndvi, cmap=plt.cm.summer)\n",
    "plt.show()"
   ]
  },
  {
   "cell_type": "markdown",
   "metadata": {},
   "source": [
    "\n",
    "<p style=\"font-family: Arial;text-align: center; font-size:1.30em;color:#2462C0; font-style:bold\">Image 18 </p>\n",
    "<img src=\"ndvi_cmap_18.png\" style=\"width: 950px; height: 500px; \">\n",
    "\n",
    "<p style=\"font-family: Arial;text-align: center; font-size:1.30em;color:#2462C0; font-style:bold\">Image 19 </p>\n",
    "<img src=\"ndvi_cmap_19.png\" style=\"width: 950px; height: 500px; \">\n",
    "\n",
    "<p style=\"font-family: Arial;text-align: center; font-size:1.30em;color:#2462C0; font-style:bold\">Image 20 </p>\n",
    "<img src=\"ndvi_cmap_20.png\" style=\"width: 950px; height: 500px;\">\n",
    "\n",
    "<p style=\"font-family: Arial;text-align: center; font-size:1.30em;color:#2462C0; font-style:bold\">Image 21 </p>\n",
    "<img src=\"ndvi_cmap_21.png\" style=\"width: 950px; height: 500px; \">"
   ]
  },
  {
   "cell_type": "code",
   "execution_count": null,
   "metadata": {},
   "outputs": [],
   "source": []
  }
 ],
 "metadata": {
  "kernelspec": {
   "display_name": "Python 2",
   "language": "python",
   "name": "python2"
  },
  "language_info": {
   "codemirror_mode": {
    "name": "ipython",
    "version": 2
   },
   "file_extension": ".py",
   "mimetype": "text/x-python",
   "name": "python",
   "nbconvert_exporter": "python",
   "pygments_lexer": "ipython2",
   "version": "2.7.14"
  }
 },
 "nbformat": 4,
 "nbformat_minor": 2
}
